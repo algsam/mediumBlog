{
 "cells": [
  {
   "cell_type": "code",
   "execution_count": 228,
   "metadata": {},
   "outputs": [],
   "source": [
    "import pandas as pd\n",
    "import plotly.plotly as py\n",
    "import plotly.graph_objs as go"
   ]
  },
  {
   "cell_type": "markdown",
   "metadata": {},
   "source": [
    "# First calculate anti-discrimination"
   ]
  },
  {
   "cell_type": "code",
   "execution_count": 229,
   "metadata": {},
   "outputs": [],
   "source": [
    "df = pd.read_csv('all_data.csv')\n",
    "df_n = pd.DataFrame()\n",
    "df_n['state'] = df['state']\n",
    "df_n['abbr'] = df['abbr']\n",
    "\n",
    "# opportunity\n",
    "df_n['housing'] = (df['housing_so'] + df['housing_gi'])/2\n",
    "df_n['employment'] = (df['employment_public_so'] + df['employment_public_gi'] +\n",
    "    df['employment_private_so'] + df['employment_private_gi'])/4\n",
    "df_n['opportunity'] = 1 - (df_n['housing'] + df_n['employment'])/2\n",
    "df_n['opportunity'] = df_n['opportunity'] != 0\n",
    "df_n = df_n.drop(['housing', 'employment'], axis=1)\n",
    "\n",
    "# control\n",
    "df_n['control'] = (df['dems_perc_senate'] + df['dems_perc_house'] + df['dem_gov'])/100/3\n",
    "df_n['all_control'] = (df['dems_perc_senate'] > 50) & (df['dems_perc_house'] > 50) & df['dem_gov']\n",
    "\n",
    "# support\n",
    "df_n['support'] = df['poll_favor']/100"
   ]
  },
  {
   "cell_type": "code",
   "execution_count": 230,
   "metadata": {},
   "outputs": [
    {
     "data": {
      "text/html": [
       "<div>\n",
       "<style scoped>\n",
       "    .dataframe tbody tr th:only-of-type {\n",
       "        vertical-align: middle;\n",
       "    }\n",
       "\n",
       "    .dataframe tbody tr th {\n",
       "        vertical-align: top;\n",
       "    }\n",
       "\n",
       "    .dataframe thead th {\n",
       "        text-align: right;\n",
       "    }\n",
       "</style>\n",
       "<table border=\"1\" class=\"dataframe\">\n",
       "  <thead>\n",
       "    <tr style=\"text-align: right;\">\n",
       "      <th></th>\n",
       "      <th>state</th>\n",
       "      <th>abbr</th>\n",
       "      <th>opportunity</th>\n",
       "      <th>control</th>\n",
       "      <th>all_control</th>\n",
       "      <th>support</th>\n",
       "      <th>opp_index</th>\n",
       "    </tr>\n",
       "  </thead>\n",
       "  <tbody>\n",
       "    <tr>\n",
       "      <th>0</th>\n",
       "      <td>Alabama</td>\n",
       "      <td>AL</td>\n",
       "      <td>True</td>\n",
       "      <td>0.165100</td>\n",
       "      <td>False</td>\n",
       "      <td>0.59</td>\n",
       "      <td>35.0</td>\n",
       "    </tr>\n",
       "    <tr>\n",
       "      <th>1</th>\n",
       "      <td>Alaska</td>\n",
       "      <td>AK</td>\n",
       "      <td>True</td>\n",
       "      <td>0.241667</td>\n",
       "      <td>False</td>\n",
       "      <td>0.68</td>\n",
       "      <td>75.0</td>\n",
       "    </tr>\n",
       "    <tr>\n",
       "      <th>2</th>\n",
       "      <td>Arizona</td>\n",
       "      <td>AZ</td>\n",
       "      <td>True</td>\n",
       "      <td>0.305533</td>\n",
       "      <td>False</td>\n",
       "      <td>0.68</td>\n",
       "      <td>85.0</td>\n",
       "    </tr>\n",
       "    <tr>\n",
       "      <th>3</th>\n",
       "      <td>Arkansas</td>\n",
       "      <td>AR</td>\n",
       "      <td>True</td>\n",
       "      <td>0.165700</td>\n",
       "      <td>False</td>\n",
       "      <td>0.56</td>\n",
       "      <td>25.0</td>\n",
       "    </tr>\n",
       "    <tr>\n",
       "      <th>8</th>\n",
       "      <td>Florida</td>\n",
       "      <td>FL</td>\n",
       "      <td>True</td>\n",
       "      <td>0.272233</td>\n",
       "      <td>False</td>\n",
       "      <td>0.68</td>\n",
       "      <td>79.0</td>\n",
       "    </tr>\n",
       "  </tbody>\n",
       "</table>\n",
       "</div>"
      ],
      "text/plain": [
       "      state abbr  opportunity   control  all_control  support  opp_index\n",
       "0   Alabama   AL         True  0.165100        False     0.59       35.0\n",
       "1    Alaska   AK         True  0.241667        False     0.68       75.0\n",
       "2   Arizona   AZ         True  0.305533        False     0.68       85.0\n",
       "3  Arkansas   AR         True  0.165700        False     0.56       25.0\n",
       "8   Florida   FL         True  0.272233        False     0.68       79.0"
      ]
     },
     "execution_count": 230,
     "metadata": {},
     "output_type": "execute_result"
    }
   ],
   "source": [
    "def norm(c):\n",
    "    return (c-c.min())/(c.max()-c.min())\n",
    "\n",
    "df_f = df_n[df_n['opportunity']].copy()\n",
    "df_f['opp_index'] = round((norm(df_f['support']) + norm(df_f['control']))/2, 2)*100\n",
    "df_f.head()"
   ]
  },
  {
   "cell_type": "markdown",
   "metadata": {},
   "source": [
    "## Create the HTML text for the graph"
   ]
  },
  {
   "cell_type": "code",
   "execution_count": 231,
   "metadata": {},
   "outputs": [],
   "source": [
    "# an unhealthy, ugly way to make the appropriate text html\n",
    "def adder(a, b, row):\n",
    "    so = \"s.o\" if not row[a] else \"\"\n",
    "    gi = \"g.i.\" if not row[b] else \"\"\n",
    "    if so != \"\" and gi != \"\":\n",
    "        return so + \", \" + gi\n",
    "    else:\n",
    "        return so + gi\n",
    "\n",
    "def make_text(row):\n",
    "    # normal stuff\n",
    "    text = row['state']\n",
    "    s = str(round(row['poll_favor'], 0))\n",
    "    c = round((row['dems_perc_senate'] + row['dems_perc_house'] + row['dem_gov'])/3, 0)\n",
    "    c = str(c)\n",
    "    text += \"<br>Support: {}<br>Dem control: {}\".format(s, c)\n",
    "    \n",
    "    # stuff that changes\n",
    "    text += \"<br><br>LACKS\"\n",
    "    if not (row['housing_so'] and row['housing_gi']):\n",
    "        a = adder('housing_so', 'housing_gi', row)\n",
    "        text += \"<br>Housing rights: \" + a\n",
    "    if not (row['employment_public_so'] and row['employment_public_gi'] and\n",
    "            row['employment_private_so'] and row['employment_private_gi']):\n",
    "        text += \"<br>Employment rights:\"\n",
    "        if not (row['employment_public_so'] and row['employment_public_gi']):\n",
    "            a = adder('employment_public_so', 'employment_public_gi', row)\n",
    "            text += \"<br>   public \" + a\n",
    "        if not (row['employment_private_so'] and row['employment_private_gi']):\n",
    "            a = adder('employment_private_so','employment_private_gi', row)\n",
    "            text += \"<br>   private \" + a\n",
    "    return text\n",
    "\n",
    "df_f['text'] = df.apply(make_text, axis=1)"
   ]
  },
  {
   "cell_type": "markdown",
   "metadata": {},
   "source": [
    "## Create the plot"
   ]
  },
  {
   "cell_type": "code",
   "execution_count": 232,
   "metadata": {},
   "outputs": [
    {
     "data": {
      "text/html": [
       "<iframe id=\"igraph\" scrolling=\"no\" style=\"border:none;\" seamless=\"seamless\" src=\"https://plot.ly/~kevinrmcelwee/69.embed\" height=\"525px\" width=\"100%\"></iframe>"
      ],
      "text/plain": [
       "<plotly.tools.PlotlyDisplay object>"
      ]
     },
     "execution_count": 232,
     "metadata": {},
     "output_type": "execute_result"
    }
   ],
   "source": [
    "df_p = df_f.copy()\n",
    "for col in df_p.columns:\n",
    "    df_p[col] = df_p[col].astype(str)\n",
    "\n",
    "data = [go.Choropleth(\n",
    "    colorscale = 'Reds',\n",
    "    locations = df_p['abbr'],\n",
    "    z = df_p['opp_index'],\n",
    "    locationmode = 'USA-states',\n",
    "    text = df_p['text'],\n",
    "    marker = go.choropleth.Marker(\n",
    "        line = go.choropleth.marker.Line(\n",
    "            color = 'rgb(255,255,255)',\n",
    "            width = 1\n",
    "        )),\n",
    "    colorbar = go.choropleth.ColorBar(\n",
    "        title = \"opportunity index\"),\n",
    ")]\n",
    "\n",
    "layout = go.Layout(\n",
    "    title = go.layout.Title(text = 'Potential for states to pass LGBT anti-discrimination laws'),\n",
    "    geo = go.layout.Geo(\n",
    "        scope = 'usa',\n",
    "        projection = go.layout.geo.Projection(type = 'albers usa'),\n",
    "        showlakes = False)\n",
    ")\n",
    "\n",
    "fig = go.Figure(data = data, layout = layout)\n",
    "py.iplot(fig, filename='anti-discrimination_lgbt')"
   ]
  },
  {
   "cell_type": "markdown",
   "metadata": {},
   "source": [
    "# What about conversion therapy?"
   ]
  },
  {
   "cell_type": "code",
   "execution_count": 233,
   "metadata": {},
   "outputs": [],
   "source": [
    "df_c = pd.DataFrame()\n",
    "df_c['state'] = df['state']\n",
    "df_c['abbr'] = df['abbr']\n",
    "df_c['c'] = df['conversion_ban']\n",
    "df_c['support'] = df['poll_favor']\n",
    "df_c['control'] = round((df['dems_perc_senate'] + df['dems_perc_house'] + df['dem_gov'])/3,0)\n",
    "df_c = df_c[df_c['c'] == 0]\n",
    "df_c.drop('c', axis=1, inplace=True)\n",
    "df_c['opp_index'] = round((norm(df_c['support']) + norm(df_c['control']))*100/2, 0)\n",
    "df_c['text'] = df_c['state'] + \"<br>Dem control: \" + df_c['control'].astype(str)"
   ]
  },
  {
   "cell_type": "code",
   "execution_count": 234,
   "metadata": {},
   "outputs": [
    {
     "data": {
      "text/html": [
       "<iframe id=\"igraph\" scrolling=\"no\" style=\"border:none;\" seamless=\"seamless\" src=\"https://plot.ly/~kevinrmcelwee/73.embed\" height=\"525px\" width=\"100%\"></iframe>"
      ],
      "text/plain": [
       "<plotly.tools.PlotlyDisplay object>"
      ]
     },
     "execution_count": 234,
     "metadata": {},
     "output_type": "execute_result"
    }
   ],
   "source": [
    "df_p = df_c.copy()\n",
    "for col in df_p.columns:\n",
    "    df_p[col] = df_p[col].astype(str)\n",
    "\n",
    "data = [go.Choropleth(\n",
    "    colorscale = 'Blues',\n",
    "    locations = df_p['abbr'],\n",
    "    z = df_p['opp_index'],\n",
    "    locationmode = 'USA-states',\n",
    "    text = df_p['text'],\n",
    "    marker = go.choropleth.Marker(\n",
    "        line = go.choropleth.marker.Line(\n",
    "            color = 'rgb(255,255,255)',\n",
    "            width = 1\n",
    "        )),\n",
    "    colorbar = go.choropleth.ColorBar(\n",
    "        title = \"opportunity index\"),\n",
    "    reversescale=True\n",
    ")]\n",
    "\n",
    "layout = go.Layout(\n",
    "    title = go.layout.Title(text = 'Potential for states ban conversion therapy for minors'),\n",
    "    geo = go.layout.Geo(\n",
    "        scope = 'usa',\n",
    "        projection = go.layout.geo.Projection(type = 'albers usa'),\n",
    "        showlakes = False)\n",
    ")\n",
    "\n",
    "fig = go.Figure(data = data, layout = layout)\n",
    "py.iplot(fig, filename='conversion_lgbt')"
   ]
  }
 ],
 "metadata": {
  "kernelspec": {
   "display_name": "Python 3",
   "language": "python",
   "name": "python3"
  },
  "language_info": {
   "codemirror_mode": {
    "name": "ipython",
    "version": 3
   },
   "file_extension": ".py",
   "mimetype": "text/x-python",
   "name": "python",
   "nbconvert_exporter": "python",
   "pygments_lexer": "ipython3",
   "version": "3.6.8"
  }
 },
 "nbformat": 4,
 "nbformat_minor": 2
}
